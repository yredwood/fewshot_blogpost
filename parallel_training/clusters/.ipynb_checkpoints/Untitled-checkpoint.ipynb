{
 "cells": [
  {
   "cell_type": "code",
   "execution_count": 1,
   "metadata": {},
   "outputs": [
    {
     "name": "stdout",
     "output_type": "stream",
     "text": [
      "(12800, 64) (12800,)\n",
      "loaded successfully\n"
     ]
    }
   ],
   "source": [
    "from sklearn.cluster import KMeans\n",
    "import numpy as np\n",
    "\n",
    "\n",
    "data = np.load('data.npy')\n",
    "label = np.load('label.npy')\n",
    "print (data.shape, label.shape)\n",
    "print ('loaded successfully')"
   ]
  },
  {
   "cell_type": "code",
   "execution_count": 2,
   "metadata": {},
   "outputs": [],
   "source": [
    "n_cluster = 20\n",
    "kmeans = KMeans(n_clusters=n_cluster, random_state=0).fit(data)"
   ]
  },
  {
   "cell_type": "code",
   "execution_count": 4,
   "metadata": {},
   "outputs": [
    {
     "name": "stdout",
     "output_type": "stream",
     "text": [
      "[45 29 43 61 34 33 31 40 26 62 22  2 11 28 54  4 10 35 52 46]\n",
      "[55 24 19 45  8 36 54 60 28  7 59 10 48 32 30 33  2 52 49 26]\n",
      "[21 15 51  7 54 55  5 44 26 43  9  6 28 49 63  4 37 48 12 31]\n",
      "[42 43  4 55 26 34 48 46 25 60 16 63 52 56  9 51 17 35 14  2]\n",
      "[50 49 10 62  4 13 14 54 23 28  9 48 41 19 26 59 32  6 52 53]\n",
      "[31  6 60 34 21  2  9 37 53  1 41 35 10 12 56 50 39 57 15 43]\n",
      "[27 46 21 14 29  0 10 33 49 57 11 32 52 51 19  3 28  5 56 31]\n",
      "[21 39 13 32 54 14 11 62 28 15 22 59 44 37 41 56 25 29  8  2]\n",
      "[39 63 55 45 41 52 48 46 60 11 49 57 29 16 33 47 22 15 24  2]\n",
      "[22 42 24 23 48 53 26 20 25 17 32  4 50 36 44 54 21 37  3 59]\n",
      "[48 61 42  2 33  9 41 20 15 19  0 11 62 63 47 28 32 44 24 58]\n",
      "[19 11 34 13 14 25 30 17 33 40 15 44 57 61  5 47  8 24 39 32]\n",
      "[40  7 25 41 17 16 29 61 14 58 30 13  4 32  8 50  9 47 62 53]\n",
      "[11  2 58 21 34 14 27 52 13  1 24 43  8 35 60  4  9 18 25 50]\n",
      "[ 2 15 50 21  0 52 40 44 49 12 33 29 25  9 59 18 31  3 48 10]\n",
      "[60 35 57 52 12 20 49 13 14 30 44 36 31 54 34 50  9 51 48  3]\n",
      "[ 0 27  9 32 28  1 30 39 43 56 12 18  8 62 10 13 60 58 63 59]\n",
      "[36  5 19 40 63 34 41 46  4 59 49 30 53 10 27 35 45  6 32 20]\n",
      "[39 55 51  8  5 26 49 25 46 58 19 33  2 53 62  9 54 17 61  4]\n",
      "[31 59 20 24 18  8 62 28 13 61 14 12  5 54 22  1 36  6 19 51]\n",
      "[ 2 54 56 52 33 49  5 10 48 26 27 57 15 50 14 45 24 22 21 23]\n",
      "[40 45 23  5 22 58 31 11 41 27 57 14 25 44 55  8  3 33 20 37]\n",
      "[11  9 33 49 43  0  3  6 21 34  8 28 14 58 60 29 38  1 42  5]\n",
      "[ 6 29  4  9 23 58 56 40 17 53 31 55 38 48 30 33 10 26 47 39]\n",
      "[43  3 18 23 35 41 21 50 57 26 13 34 40 54 11 49 46  2 56  0]\n"
     ]
    }
   ],
   "source": [
    "np.random.seed(0)\n",
    "cluster_i_labels = []\n",
    "for i in range(n_cluster):\n",
    "    idx = np.where(kmeans.labels_==i)[0]\n",
    "    label_list = label[idx]\n",
    "    cluster_i_labels.append(label_list)\n",
    "    \n",
    "class_cluster = [[] for _ in range(n_cluster)]\n",
    "for i in range(64):\n",
    "    cnts = [np.sum(ll==i) for ll in cluster_i_labels]\n",
    "    class_cluster.append(np.argmax(cnts))\n",
    "    cls_selected = np.argsort(cnts)[-2:]\n",
    "#     print (cls_selected)\n",
    "    for cc in cls_selected:\n",
    "        class_cluster[cc].append(i)\n",
    "        break\n",
    "# print (class_cluster)\n",
    "    \n",
    "# c = [np.unique(class_cluster[i]) for i in range(n_cluster)]\n",
    "# for _c in c:\n",
    "#     print (_c)\n",
    "# #     print ('label {:2d} -> cluster {:2d}'\\\n",
    "# #            .format(i, np.argmax(cnts)))\n",
    "# class_cluster = np.array(class_cluster)\n",
    "# print (class_cluster)\n",
    "# output = []\n",
    "# for i in range(n_cluster):\n",
    "#     print ('cluster {} statistics :::'.format(i))\n",
    "#     stats = np.where(class_cluster==i)[0]\n",
    "#     print (stats)\n",
    "#     output.append(stats)\n",
    "# # print (np.concatenate(output, 0).shape)\n",
    "\n",
    "c = []\n",
    "for i in range(25):\n",
    "    t = np.random.choice(64, size=20, replace=False)\n",
    "#     t = np.arange(64)\n",
    "    c.append(t)\n",
    "    print (t)\n",
    "\n",
    "#np.save('cconfig64wshf.npy', np.array(c))\n",
    "np.save('cconfig_baseline_ensemble.npy', np.array(c))\n",
    "# print (np.shape(output))"
   ]
  },
  {
   "cell_type": "code",
   "execution_count": null,
   "metadata": {},
   "outputs": [],
   "source": [
    "import numpy as np \n",
    "\n",
    "np.load('t.npy')"
   ]
  },
  {
   "cell_type": "code",
   "execution_count": null,
   "metadata": {},
   "outputs": [],
   "source": []
  }
 ],
 "metadata": {
  "kernelspec": {
   "display_name": "Python 3",
   "language": "python",
   "name": "python3"
  },
  "language_info": {
   "codemirror_mode": {
    "name": "ipython",
    "version": 3
   },
   "file_extension": ".py",
   "mimetype": "text/x-python",
   "name": "python",
   "nbconvert_exporter": "python",
   "pygments_lexer": "ipython3",
   "version": "3.5.2"
  }
 },
 "nbformat": 4,
 "nbformat_minor": 2
}
