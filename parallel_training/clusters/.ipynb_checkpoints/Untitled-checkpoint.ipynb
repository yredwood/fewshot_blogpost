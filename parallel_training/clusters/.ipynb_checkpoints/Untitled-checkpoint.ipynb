{
 "cells": [
  {
   "cell_type": "code",
   "execution_count": 37,
   "metadata": {},
   "outputs": [
    {
     "name": "stdout",
     "output_type": "stream",
     "text": [
      "(200, 600)\n"
     ]
    }
   ],
   "source": [
    "%matplotlib inline \n",
    "import numpy as np\n",
    "import matplotlib.pyplot as plt \n",
    "\n",
    "\n",
    "feat = []\n",
    "for i in range(200):\n",
    "    fname = 'task_features/f{}.npy'.format(i)\n",
    "    feat.append(np.load(fname))\n",
    "feat = np.array(feat)\n",
    "print (feat.shape)"
   ]
  },
  {
   "cell_type": "code",
   "execution_count": 40,
   "metadata": {
    "scrolled": false
   },
   "outputs": [
    {
     "name": "stdout",
     "output_type": "stream",
     "text": [
      "[59, 96, 73, 29, 56, 199, 79, 34, 56, 71, 64, 56, 43, 72, 56]\n",
      "array([ 29,  34,  43,  56,  59,  64,  71,  72,  73,  79,  96, 199])\n",
      "12\n"
     ]
    }
   ],
   "source": [
    "#print (feat.mean(axis=1))\n",
    "task_idx = []\n",
    "for i in range(5):\n",
    "    top1_idx = np.argsort(feat.mean(axis=1))[-i]\n",
    "\n",
    "    top1_f = feat[top1_idx]\n",
    "    top1_f = np.expand_dims(top1_f, 0) \n",
    "\n",
    "    ab = np.sum(top1_f * feat, axis=1)\n",
    "    normab = np.linalg.norm(top1_f, axis=1) * np.linalg.norm(feat, axis=1)\n",
    "    sim_mat = ab / normab\n",
    "\n",
    "    least_sim_ind = np.argsort(sim_mat)[:2]\n",
    "    selected_list = [top1_idx] + list(least_sim_ind)\n",
    "    task_idx = task_idx + selected_list\n",
    "print (task_idx)\n",
    "print (repr(np.unique(task_idx)))\n",
    "print (len(np.unique(task_idx)))\n"
   ]
  },
  {
   "cell_type": "code",
   "execution_count": null,
   "metadata": {},
   "outputs": [],
   "source": []
  }
 ],
 "metadata": {
  "kernelspec": {
   "display_name": "Python 3",
   "language": "python",
   "name": "python3"
  },
  "language_info": {
   "codemirror_mode": {
    "name": "ipython",
    "version": 3
   },
   "file_extension": ".py",
   "mimetype": "text/x-python",
   "name": "python",
   "nbconvert_exporter": "python",
   "pygments_lexer": "ipython3",
   "version": "3.5.2"
  }
 },
 "nbformat": 4,
 "nbformat_minor": 2
}
