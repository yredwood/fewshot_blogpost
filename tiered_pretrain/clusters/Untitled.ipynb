{
 "cells": [
  {
   "cell_type": "code",
   "execution_count": 1,
   "metadata": {},
   "outputs": [
    {
     "name": "stdout",
     "output_type": "stream",
     "text": [
      "(12800, 64) (12800,)\n",
      "loaded successfully\n"
     ]
    }
   ],
   "source": [
    "from sklearn.cluster import KMeans\n",
    "import numpy as np\n",
    "\n",
    "\n",
    "data = np.load('data.npy')\n",
    "label = np.load('label.npy')\n",
    "print (data.shape, label.shape)\n",
    "print ('loaded successfully')"
   ]
  },
  {
   "cell_type": "code",
   "execution_count": 2,
   "metadata": {},
   "outputs": [],
   "source": [
    "n_cluster = 2\n",
    "kmeans = KMeans(n_clusters=n_cluster, random_state=0).fit(data)"
   ]
  },
  {
   "cell_type": "code",
   "execution_count": 5,
   "metadata": {},
   "outputs": [
    {
     "name": "stdout",
     "output_type": "stream",
     "text": [
      "cluster 0 statistics :::\n",
      "[]\n",
      "cluster 1 statistics :::\n",
      "[]\n"
     ]
    }
   ],
   "source": [
    "np.random.seed(0)\n",
    "\n",
    "def get_cluster_result(n_cluster, seed=0):\n",
    "    kmeans = KMeans(n_clusters=n_cluster, random_state=seed).fit(data)\n",
    "    \n",
    "    \n",
    "    \n",
    "    \n",
    "\n",
    "\n",
    "\n",
    "cluster_i_labels = []\n",
    "for i in range(n_cluster):\n",
    "    idx = np.where(kmeans.labels_==i)[0]\n",
    "    label_list = label[idx]\n",
    "    cluster_i_labels.append(label_list)\n",
    "    \n",
    "class_cluster = [[] for _ in range(n_cluster)]\n",
    "for i in range(64):\n",
    "    cnts = [np.sum(ll==i) for ll in cluster_i_labels]\n",
    "    class_cluster.append(np.argmax(cnts))\n",
    "    cls_selected = np.argsort(cnts)[-2:]\n",
    "#     print (cls_selected)\n",
    "    for cc in cls_selected:\n",
    "        class_cluster[cc].append(i)\n",
    "        \n",
    "# print (class_cluster)\n",
    "    \n",
    "# c = [np.unique(class_cluster[i]) for i in range(n_cluster)]\n",
    "# for _c in c:\n",
    "#     print (_c)\n",
    "# #     print ('label {:2d} -> cluster {:2d}'\\\n",
    "# #            .format(i, np.argmax(cnts)))\n",
    "# class_cluster = np.array(class_cluster)\n",
    "# print (class_cluster)\n",
    "output = []\n",
    "for i in range(n_cluster):\n",
    "    print ('cluster {} statistics :::'.format(i))\n",
    "    stats = np.where(class_cluster==i)[0]\n",
    "    print (stats)\n",
    "    output.append(stats)\n",
    "# print (np.concatenate(output, 0).shape)\n",
    "\n",
    "# c = []\n",
    "# for i in range(25):\n",
    "#     t = np.random.choice(64, size=20, replace=False)\n",
    "# #     t = np.arange(64)\n",
    "#     c.append(t)\n",
    "#     print (t)\n",
    "\n",
    "#np.save('cconfig64wshf.npy', np.array(c))\n",
    "np.save('cconfig_baseline_ensemble.npy', np.array(c))\n",
    "# print (np.shape(output))"
   ]
  },
  {
   "cell_type": "code",
   "execution_count": null,
   "metadata": {},
   "outputs": [],
   "source": []
  },
  {
   "cell_type": "code",
   "execution_count": null,
   "metadata": {},
   "outputs": [],
   "source": []
  }
 ],
 "metadata": {
  "kernelspec": {
   "display_name": "Python 3",
   "language": "python",
   "name": "python3"
  },
  "language_info": {
   "codemirror_mode": {
    "name": "ipython",
    "version": 3
   },
   "file_extension": ".py",
   "mimetype": "text/x-python",
   "name": "python",
   "nbconvert_exporter": "python",
   "pygments_lexer": "ipython3",
   "version": "3.5.2"
  }
 },
 "nbformat": 4,
 "nbformat_minor": 2
}
